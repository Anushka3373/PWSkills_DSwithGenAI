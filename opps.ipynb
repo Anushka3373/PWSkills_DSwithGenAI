{
  "nbformat": 4,
  "nbformat_minor": 0,
  "metadata": {
    "colab": {
      "provenance": []
    },
    "kernelspec": {
      "name": "python3",
      "display_name": "Python 3"
    },
    "language_info": {
      "name": "python"
    }
  },
  "cells": [
    {
      "cell_type": "markdown",
      "source": [
        "#Python OOPs Questions"
      ],
      "metadata": {
        "id": "GqzIL2ZSXoBv"
      }
    },
    {
      "cell_type": "markdown",
      "source": [
        "1. What is Object-Oriented Programming (OOP)?\n",
        "   - OOP is a programming paradigm based on the concept of “objects,” which represent real-world entities. It uses classes and objects to structure code, focusing on reusability, modularity, and maintainability. Key principles include abstraction, encapsulation, inheritance, and polymorphism.\n",
        "  "
      ],
      "metadata": {
        "id": "v6TOyufnZXCZ"
      }
    },
    {
      "cell_type": "markdown",
      "source": [
        "2. What is a class in OOP?\n",
        "   - A class is a blueprint or template for creating objects. It defines attributes (data) and methods (functions) that describe the behavior of objects. For example, a Car class may define properties like color and methods like drive()."
      ],
      "metadata": {
        "id": "mV21SixFKSLd"
      }
    },
    {
      "cell_type": "markdown",
      "source": [
        "3. What is an object in OOP?\n",
        "\n",
        "   - An object is an instance of a class. It represents a specific entity created from a class, with actual values assigned to its attributes. For example, my_car = Car(\"red\") creates an object of class Car."
      ],
      "metadata": {
        "id": "BCqOEc1qKWTD"
      }
    },
    {
      "cell_type": "markdown",
      "source": [
        "4. What is the difference between abstraction and encapsulation?\n",
        "\n",
        "   - Abstraction hides implementation details and shows only essential features.\n",
        "   - Encapsulation bundles data and methods inside a class and restricts direct access using access modifiers.\n",
        "   - Abstraction is about what to expose, encapsulation is about how to protect."
      ],
      "metadata": {
        "id": "pO8pdotvKcJH"
      }
    },
    {
      "cell_type": "markdown",
      "source": [
        "5. What are dunder methods in Python?\n",
        "\n",
        "   - Dunder (double underscore) methods are special methods in Python, also called “magic methods.” Examples include __init__, __str__, and __len__. They allow customization of built-in operations, like object construction and representation."
      ],
      "metadata": {
        "id": "RQcK5uh4KfH6"
      }
    },
    {
      "cell_type": "markdown",
      "source": [
        "6. Explain the concept of inheritance in OOP.\n",
        "\n",
        "   - Inheritance allows one class (child) to derive properties and behaviors from another class (parent). It promotes code reusability and hierarchical classification. For example, a Dog class can inherit from an Animal class."
      ],
      "metadata": {
        "id": "6EWdvD58Ki7r"
      }
    },
    {
      "cell_type": "markdown",
      "source": [
        "7. What is polymorphism in OOP?\n",
        "\n",
        "   - Polymorphism means the same function name or operator can have different behaviors depending on the context. For example, + works for both numbers (addition) and strings (concatenation). In OOP, it allows different classes to define methods with the same name but different behavior."
      ],
      "metadata": {
        "id": "IYEnQ_3nKmNm"
      }
    },
    {
      "cell_type": "markdown",
      "source": [
        "8. How is encapsulation achieved in Python?\n",
        "\n",
        "   - Encapsulation is achieved using classes and access modifiers. Public attributes are accessible freely, while protected (_var) and private (__var) attributes restrict direct access. Methods (getters/setters) can be used to safely access or update data."
      ],
      "metadata": {
        "id": "RcasbBx2KpGt"
      }
    },
    {
      "cell_type": "markdown",
      "source": [
        "9. What is a constructor in Python?\n",
        "\n",
        "   - A constructor is a special method __init__() in Python that initializes an object when it is created. It sets default or user-defined values for the object’s attributes."
      ],
      "metadata": {
        "id": "kcmC-7ayKrPn"
      }
    },
    {
      "cell_type": "markdown",
      "source": [
        "10. What are class and static methods in Python?\n",
        "\n",
        "   - Class methods (defined with @classmethod) receive the class as the first argument (cls) and can modify class-level data.\n",
        "\n",
        "   -  Static methods (defined with @staticmethod) don’t receive self or cls; they are utility functions related to the class but independent of instance/class data."
      ],
      "metadata": {
        "id": "UBUyyvgiKvB5"
      }
    },
    {
      "cell_type": "markdown",
      "source": [
        "11. What is method overloading in Python?\n",
        "\n",
        "   - Python does not support traditional method overloading. Instead, it can be achieved using default arguments, variable-length arguments, or by manually checking argument types."
      ],
      "metadata": {
        "id": "WQwnydn3KxdC"
      }
    },
    {
      "cell_type": "markdown",
      "source": [
        "12. What is method overriding in OOP?\n",
        "\n",
        "   - Method overriding occurs when a child class defines a method with the same name as in the parent class but provides a different implementation. It allows customization of inherited behavior."
      ],
      "metadata": {
        "id": "7u1ydL7WK0kz"
      }
    },
    {
      "cell_type": "markdown",
      "source": [
        "13. What is a property decorator in Python?\n",
        "\n",
        "   - The property decorator is used to define getters in Python, making methods accessible like attributes. It allows encapsulation while providing a simple interface to access computed or protected values."
      ],
      "metadata": {
        "id": "BwH-eyV6K3RL"
      }
    },
    {
      "cell_type": "markdown",
      "source": [
        "14. Why is polymorphism important in OOP?\n",
        "\n",
        "   - Polymorphism enhances flexibility and code reusability by allowing different objects to respond to the same method in different ways. It supports designing extensible and scalable systems."
      ],
      "metadata": {
        "id": "6k1ObttcK6RN"
      }
    },
    {
      "cell_type": "markdown",
      "source": [
        "15. What is an abstract class in Python?\n",
        "\n",
        "   - An abstract class is a class that cannot be instantiated directly and may contain abstract methods (methods without implementation). It is defined using the abc module. Subclasses must implement the abstract methods."
      ],
      "metadata": {
        "id": "IBMBEoKJK8qn"
      }
    },
    {
      "cell_type": "markdown",
      "source": [
        "16. What are the advantages of OOP?\n",
        "\n",
        "   - OOP improves code reusability, modularity, scalability, and maintainability. It models real-world entities naturally and encourages cleaner design through encapsulation, abstraction, inheritance, and polymorphism."
      ],
      "metadata": {
        "id": "oV-0wT1RLBDI"
      }
    },
    {
      "cell_type": "markdown",
      "source": [
        "17. What is the difference between a class variable and an instance variable?\n",
        "\n",
        "   - Class variables are shared across all objects of a class.\n",
        "\n",
        "   - Instance variables are unique to each object.\n",
        "   - Example: a Car class may have a shared variable wheels = 4 and an instance variable color."
      ],
      "metadata": {
        "id": "UwM1ELkSLDlk"
      }
    },
    {
      "cell_type": "markdown",
      "source": [
        "18. What is multiple inheritance in Python?\n",
        "\n",
        "   - Multiple inheritance means a class can inherit from more than one parent class."
      ],
      "metadata": {
        "id": "_I4dyvlPLG6F"
      }
    },
    {
      "cell_type": "markdown",
      "source": [
        "19. Explain the purpose of __str__ and __repr__ methods in Python.\n",
        "\n",
        "   - __str__ provides a user-friendly string representation of an object (used by print()).\n",
        "\n",
        "   - __repr__ provides an unambiguous representation for developers (used in debugging)."
      ],
      "metadata": {
        "id": "nrH5_xA7LKIP"
      }
    },
    {
      "cell_type": "markdown",
      "source": [
        "20. What is the significance of the super() function in Python?\n",
        "\n",
        "   - The super() function is used to call methods from the parent class inside a child class. It’s mainly used in constructors for initializing inherited attributes."
      ],
      "metadata": {
        "id": "Zh74PetbLMOV"
      }
    },
    {
      "cell_type": "markdown",
      "source": [
        "21. What is the significance of the __del__ method in Python?\n",
        "\n",
        "   - The __del__ method is a destructor that gets called when an object is about to be destroyed. It can be used to release resources, though its execution timing depends on Python’s garbage collector."
      ],
      "metadata": {
        "id": "E03p5IBHLOxd"
      }
    },
    {
      "cell_type": "markdown",
      "source": [
        "22. What is the difference between @staticmethod and @classmethod in Python?\n",
        "\n",
        "   - @staticmethod: No access to instance (self) or class (cls). Works like a normal function inside a class.\n",
        "\n",
        "   - @classmethod: Has access to class-level data via cls but not to instance data."
      ],
      "metadata": {
        "id": "MRXxzDXtLRIQ"
      }
    },
    {
      "cell_type": "markdown",
      "source": [
        "23. How does polymorphism work in Python with inheritance?\n",
        "\n",
        "   - Polymorphism in inheritance allows child classes to override parent methods. When a method is called on an object, Python automatically calls the version appropriate for that object’s class."
      ],
      "metadata": {
        "id": "mMyyLe2bLSea"
      }
    },
    {
      "cell_type": "markdown",
      "source": [
        "24. What is method chaining in Python OOP?\n",
        "\n",
        "   - Method chaining allows calling multiple methods on the same object in a single line by returning self from methods."
      ],
      "metadata": {
        "id": "f0QpCGwDLW2q"
      }
    },
    {
      "cell_type": "markdown",
      "source": [
        "25. What is the purpose of the __call__ method in Python?\n",
        "\n",
        "   - The __call__ method makes an object behave like a function. If defined, the object can be “called” using parentheses, executing the logic inside __call__."
      ],
      "metadata": {
        "id": "1myitf68LYvy"
      }
    },
    {
      "cell_type": "markdown",
      "source": [
        "#Practical Questions\n"
      ],
      "metadata": {
        "id": "cIn8fIZ3M9by"
      }
    },
    {
      "cell_type": "markdown",
      "source": [
        "1. Create a parent class Animal with a method speak() that prints a generic message. Create a child class Dog\n",
        "that overrides the speak() method to print \"Bark!\"."
      ],
      "metadata": {
        "id": "mBq-Xw4LNRgO"
      }
    },
    {
      "cell_type": "code",
      "source": [
        "class Animal:\n",
        "    def speak(self):\n",
        "        print(\"Some generic animal sound\")\n",
        "\n",
        "class Dog(Animal):\n",
        "    def speak(self):\n",
        "        print(\"Bark!\")\n",
        "\n",
        "Dog().speak()  # Bark!\n"
      ],
      "metadata": {
        "colab": {
          "base_uri": "https://localhost:8080/"
        },
        "id": "DHqQVa8cV4Mn",
        "outputId": "d6b376fb-c56d-47d1-e5cd-e112828cf350"
      },
      "execution_count": 1,
      "outputs": [
        {
          "output_type": "stream",
          "name": "stdout",
          "text": [
            "Bark!\n"
          ]
        }
      ]
    },
    {
      "cell_type": "markdown",
      "source": [
        "2. Write a program to create an abstract class Shape with a method area(). Derive classes Circle and Rectangle\n",
        "from it and implement the area() method in both.\n",
        "\n",
        "\n"
      ],
      "metadata": {
        "id": "u4RBa7LiUhjw"
      }
    },
    {
      "cell_type": "code",
      "source": [
        "from abc import ABC, abstractmethod\n",
        "import math\n",
        "\n",
        "class Shape(ABC):\n",
        "    @abstractmethod\n",
        "    def area(self):\n",
        "        pass\n",
        "\n",
        "class Circle(Shape):\n",
        "    def __init__(self, r): self.r = r\n",
        "    def area(self): return math.pi * self.r * self.r\n",
        "\n",
        "class Rectangle(Shape):\n",
        "    def __init__(self, w, h): self.w, self.h = w, h\n",
        "    def area(self): return self.w * self.h\n",
        "\n",
        "print(Circle(3).area(), Rectangle(4, 5).area())\n"
      ],
      "metadata": {
        "colab": {
          "base_uri": "https://localhost:8080/"
        },
        "id": "ZwKRb-jVV4zs",
        "outputId": "ab188f81-6437-47d5-dac0-7179bd57b6a2"
      },
      "execution_count": 2,
      "outputs": [
        {
          "output_type": "stream",
          "name": "stdout",
          "text": [
            "28.274333882308138 20\n"
          ]
        }
      ]
    },
    {
      "cell_type": "markdown",
      "source": [
        "3. Implement a multi-level inheritance scenario where a class Vehicle has an attribute type. Derive a class Car\n",
        "and further derive a class ElectricCar that adds a battery attribute."
      ],
      "metadata": {
        "id": "gDWsovtVUkqj"
      }
    },
    {
      "cell_type": "code",
      "source": [
        "class Vehicle:\n",
        "    def __init__(self, vtype): self.type = vtype\n",
        "\n",
        "class Car(Vehicle):\n",
        "    def __init__(self, brand, vtype=\"Car\"):\n",
        "        super().__init__(vtype)\n",
        "        self.brand = brand\n",
        "\n",
        "class ElectricCar(Car):\n",
        "    def __init__(self, brand, battery_kwh):\n",
        "        super().__init__(brand)\n",
        "        self.battery = battery_kwh\n",
        "\n",
        "ec = ElectricCar(\"Tesla\", 75)\n",
        "print(ec.type, ec.brand, ec.battery)\n"
      ],
      "metadata": {
        "colab": {
          "base_uri": "https://localhost:8080/"
        },
        "id": "n5UYlrqAWRGN",
        "outputId": "9729197f-a265-44bf-e7f4-6f3b26426402"
      },
      "execution_count": 3,
      "outputs": [
        {
          "output_type": "stream",
          "name": "stdout",
          "text": [
            "Car Tesla 75\n"
          ]
        }
      ]
    },
    {
      "cell_type": "markdown",
      "source": [
        "4. Demonstrate polymorphism by creating a base class Bird with a method fly(). Create two derived classes\n",
        "Sparrow and Penguin that override the fly() method.\n"
      ],
      "metadata": {
        "id": "snP_EOHPUknq"
      }
    },
    {
      "cell_type": "code",
      "source": [
        "class Bird:\n",
        "    def fly(self): print(\"Bird is flying\")\n",
        "\n",
        "class Sparrow(Bird):\n",
        "    def fly(self): print(\"Sparrow flies swiftly\")\n",
        "\n",
        "class Penguin(Bird):\n",
        "    def fly(self): print(\"Penguins can't fly; they waddle\")\n",
        "\n",
        "for b in (Sparrow(), Penguin()):\n",
        "    b.fly()\n"
      ],
      "metadata": {
        "colab": {
          "base_uri": "https://localhost:8080/"
        },
        "id": "Ing50j32V6bm",
        "outputId": "d8290cad-6f59-4d3b-9d48-1aacfcd345d9"
      },
      "execution_count": 4,
      "outputs": [
        {
          "output_type": "stream",
          "name": "stdout",
          "text": [
            "Sparrow flies swiftly\n",
            "Penguins can't fly; they waddle\n"
          ]
        }
      ]
    },
    {
      "cell_type": "markdown",
      "source": [
        "5. Write a program to demonstrate encapsulation by creating a class BankAccount with private attributes\n",
        "balance and methods to deposit, withdraw, and check balance."
      ],
      "metadata": {
        "id": "5BdlTDOFUkkA"
      }
    },
    {
      "cell_type": "code",
      "source": [
        "class BankAccount:\n",
        "    def __init__(self, opening=0.0):\n",
        "        self.__balance = float(opening)\n",
        "\n",
        "    def deposit(self, amt):\n",
        "        if amt > 0: self.__balance += amt\n",
        "\n",
        "    def withdraw(self, amt):\n",
        "        if 0 < amt <= self.__balance: self.__balance -= amt\n",
        "        else: print(\"Insufficient funds or invalid amount\")\n",
        "\n",
        "    def get_balance(self): return self.__balance\n",
        "\n",
        "acct = BankAccount(100)\n",
        "acct.deposit(50); acct.withdraw(30); print(acct.get_balance())\n"
      ],
      "metadata": {
        "colab": {
          "base_uri": "https://localhost:8080/"
        },
        "id": "A6-EKP9JV7O8",
        "outputId": "d7ef5712-91d2-463a-f913-d0b6cfcc03f6"
      },
      "execution_count": 5,
      "outputs": [
        {
          "output_type": "stream",
          "name": "stdout",
          "text": [
            "120.0\n"
          ]
        }
      ]
    },
    {
      "cell_type": "markdown",
      "source": [
        "6. Demonstrate runtime polymorphism using a method play() in a base class Instrument. Derive classes Guitar\n",
        "and Piano that implement their own version of play()."
      ],
      "metadata": {
        "id": "lX9S8xdJUkew"
      }
    },
    {
      "cell_type": "code",
      "source": [
        "class Instrument:\n",
        "    def play(self): print(\"Instrument is playing\")\n",
        "\n",
        "class Guitar(Instrument):\n",
        "    def play(self): print(\"Strumming the guitar\")\n",
        "\n",
        "class Piano(Instrument):\n",
        "    def play(self): print(\"Playing the piano keys\")\n",
        "\n",
        "for i in (Guitar(), Piano()):\n",
        "    i.play()\n"
      ],
      "metadata": {
        "colab": {
          "base_uri": "https://localhost:8080/"
        },
        "id": "QzYvLgdzV7sm",
        "outputId": "ca0d14f3-2dfa-4f34-f47d-980ebc9c43e8"
      },
      "execution_count": 6,
      "outputs": [
        {
          "output_type": "stream",
          "name": "stdout",
          "text": [
            "Strumming the guitar\n",
            "Playing the piano keys\n"
          ]
        }
      ]
    },
    {
      "cell_type": "markdown",
      "source": [
        "7. Create a class MathOperations with a class method add_numbers() to add two numbers and a static\n",
        "method subtract_numbers() to subtract two numbers."
      ],
      "metadata": {
        "id": "L8i0ZqTiUkbC"
      }
    },
    {
      "cell_type": "code",
      "source": [
        "class MathOperations:\n",
        "    @classmethod\n",
        "    def add_numbers(cls, a, b): return a + b\n",
        "\n",
        "    @staticmethod\n",
        "    def subtract_numbers(a, b): return a - b\n",
        "\n",
        "print(MathOperations.add_numbers(2, 3), MathOperations.subtract_numbers(5, 1))\n"
      ],
      "metadata": {
        "colab": {
          "base_uri": "https://localhost:8080/"
        },
        "id": "RsrXG-opV8as",
        "outputId": "8e621248-37b1-4f05-9d3e-07781fd4646a"
      },
      "execution_count": 7,
      "outputs": [
        {
          "output_type": "stream",
          "name": "stdout",
          "text": [
            "5 4\n"
          ]
        }
      ]
    },
    {
      "cell_type": "markdown",
      "source": [
        "8. Implement a class Person with a class method to count the total number of persons created"
      ],
      "metadata": {
        "id": "v6nIwH7VUkXw"
      }
    },
    {
      "cell_type": "code",
      "source": [
        "class Person:\n",
        "    _count = 0\n",
        "    def __init__(self, name):\n",
        "        self.name = name\n",
        "        Person._count += 1\n",
        "\n",
        "    @classmethod\n",
        "    def total(cls): return cls._count\n",
        "\n",
        "p1, p2 = Person(\"A\"), Person(\"B\")\n",
        "print(Person.total())  # 2\n"
      ],
      "metadata": {
        "colab": {
          "base_uri": "https://localhost:8080/"
        },
        "id": "pCbBotW9V80N",
        "outputId": "30c5d8dc-ce40-46fb-e802-4f53a9854a66"
      },
      "execution_count": 8,
      "outputs": [
        {
          "output_type": "stream",
          "name": "stdout",
          "text": [
            "2\n"
          ]
        }
      ]
    },
    {
      "cell_type": "markdown",
      "source": [
        "9. Write a class Fraction with attributes numerator and denominator. Override the str method to display the\n",
        "fraction as \"numerator/denominator\"."
      ],
      "metadata": {
        "id": "pVIHceySUkUN"
      }
    },
    {
      "cell_type": "code",
      "source": [
        "class Fraction:\n",
        "    def __init__(self, numerator, denominator):\n",
        "        self.n, self.d = numerator, denominator\n",
        "\n",
        "    def __str__(self):\n",
        "        return f\"{self.n}/{self.d}\"\n",
        "\n",
        "print(str(Fraction(3, 4)))\n"
      ],
      "metadata": {
        "colab": {
          "base_uri": "https://localhost:8080/"
        },
        "id": "xL5s_VSeV9yM",
        "outputId": "eca62a46-aa99-4700-fc8f-4c3d17f965db"
      },
      "execution_count": 9,
      "outputs": [
        {
          "output_type": "stream",
          "name": "stdout",
          "text": [
            "3/4\n"
          ]
        }
      ]
    },
    {
      "cell_type": "markdown",
      "source": [
        "10. Demonstrate operator overloading by creating a class Vector and overriding the add method to add two\n",
        "vectors."
      ],
      "metadata": {
        "id": "Jgn_2DjMUkQ-"
      }
    },
    {
      "cell_type": "code",
      "source": [
        "class Vector:\n",
        "    def __init__(self, x, y): self.x, self.y = x, y\n",
        "    def __add__(self, other):\n",
        "        return Vector(self.x + other.x, self.y + other.y)\n",
        "    def __repr__(self): return f\"Vector({self.x}, {self.y})\"\n",
        "\n",
        "v = Vector(1, 2) + Vector(3, 4)\n",
        "print(v)\n"
      ],
      "metadata": {
        "colab": {
          "base_uri": "https://localhost:8080/"
        },
        "id": "f4khQ2HrV-hF",
        "outputId": "9337df86-601f-4615-c783-126fc4fbfc93"
      },
      "execution_count": 10,
      "outputs": [
        {
          "output_type": "stream",
          "name": "stdout",
          "text": [
            "Vector(4, 6)\n"
          ]
        }
      ]
    },
    {
      "cell_type": "markdown",
      "source": [
        "11. Create a class Person with attributes name and age. Add a method greet() that prints \"Hello, my name is {name} and I am {age} years old.\""
      ],
      "metadata": {
        "id": "99Gg1lzdUkNQ"
      }
    },
    {
      "cell_type": "code",
      "source": [
        "class Person:\n",
        "    def __init__(self, name, age): self.name, self.age = name, age\n",
        "    def greet(self):\n",
        "        print(f\"Hello, my name is {self.name} and I am {self.age} years old.\")\n",
        "\n",
        "Person(\"Anushka\", 20).greet()\n"
      ],
      "metadata": {
        "colab": {
          "base_uri": "https://localhost:8080/"
        },
        "id": "it6PnVT5V_MS",
        "outputId": "f5b92617-48e6-4757-fc6f-14b22756ff85"
      },
      "execution_count": 11,
      "outputs": [
        {
          "output_type": "stream",
          "name": "stdout",
          "text": [
            "Hello, my name is Anushka and I am 20 years old.\n"
          ]
        }
      ]
    },
    {
      "cell_type": "markdown",
      "source": [
        "12. Implement a class Student with attributes name and grades. Create a method average_grade() to compute the average of the grades."
      ],
      "metadata": {
        "id": "rO752ecPUj-F"
      }
    },
    {
      "cell_type": "code",
      "source": [
        "class Student:\n",
        "    def __init__(self, name, grades):\n",
        "        self.name, self.grades = name, list(grades)\n",
        "\n",
        "    def average_grade(self):\n",
        "        return sum(self.grades) / len(self.grades) if self.grades else 0.0\n",
        "\n",
        "print(Student(\"Jay\", [80, 90, 100]).average_grade())\n"
      ],
      "metadata": {
        "colab": {
          "base_uri": "https://localhost:8080/"
        },
        "id": "I8BJ6fccV_v_",
        "outputId": "1f392223-9a7c-414d-9880-5731f1d2dbc0"
      },
      "execution_count": 12,
      "outputs": [
        {
          "output_type": "stream",
          "name": "stdout",
          "text": [
            "90.0\n"
          ]
        }
      ]
    },
    {
      "cell_type": "markdown",
      "source": [
        "13. Create a class Rectangle with methods set_dimensions() to set the dimensions and area() to calculate the\n",
        "area.\n",
        "\n",
        "\n"
      ],
      "metadata": {
        "id": "CSW0KdUKUje4"
      }
    },
    {
      "cell_type": "code",
      "source": [
        "class Rectangle:\n",
        "    def __init__(self): self.w = self.h = 0\n",
        "    def set_dimensions(self, w, h):\n",
        "        self.w, self.h = w, h\n",
        "    def area(self): return self.w * self.h\n",
        "\n",
        "r = Rectangle(); r.set_dimensions(5, 6); print(r.area())\n"
      ],
      "metadata": {
        "colab": {
          "base_uri": "https://localhost:8080/"
        },
        "id": "NiC0yD0yWAvQ",
        "outputId": "8d27ce6c-3017-4eb0-97ed-a47457f2e3a7"
      },
      "execution_count": 13,
      "outputs": [
        {
          "output_type": "stream",
          "name": "stdout",
          "text": [
            "30\n"
          ]
        }
      ]
    },
    {
      "cell_type": "markdown",
      "source": [
        "14. Create a class Employee with a method calculate_salary() that computes the salary based on hours worked and hourly rate. Create a derived class Manager that adds a bonus to the salary."
      ],
      "metadata": {
        "id": "SDTQXUPKVQmc"
      }
    },
    {
      "cell_type": "code",
      "source": [
        "class Employee:\n",
        "    def calculate_salary(self, hours, rate):\n",
        "        return hours * rate\n",
        "\n",
        "class Manager(Employee):\n",
        "    def __init__(self, bonus): self.bonus = bonus\n",
        "    def calculate_salary(self, hours, rate):\n",
        "        return super().calculate_salary(hours, rate) + self.bonus\n",
        "\n",
        "print(Manager(5000).calculate_salary(160, 50))\n"
      ],
      "metadata": {
        "colab": {
          "base_uri": "https://localhost:8080/"
        },
        "id": "lsvRolxhWBNi",
        "outputId": "ca7f22d4-6799-4dc1-e352-21f282a031a8"
      },
      "execution_count": 14,
      "outputs": [
        {
          "output_type": "stream",
          "name": "stdout",
          "text": [
            "13000\n"
          ]
        }
      ]
    },
    {
      "cell_type": "markdown",
      "source": [
        "15. Create a class Product with attributes name, price, and quantity. Implement a method total_price() that calculates the total price of the product."
      ],
      "metadata": {
        "id": "BkIJCt5iVQi4"
      }
    },
    {
      "cell_type": "code",
      "source": [
        "class Product:\n",
        "    def __init__(self, name, price, quantity):\n",
        "        self.name, self.price, self.quantity = name, float(price), int(quantity)\n",
        "\n",
        "    def total_price(self):\n",
        "        return self.price * self.quantity\n",
        "\n",
        "print(Product(\"Pen\", 12.5, 4).total_price())\n"
      ],
      "metadata": {
        "colab": {
          "base_uri": "https://localhost:8080/"
        },
        "id": "DXeze6LFWB_N",
        "outputId": "e658731c-8e27-4e75-9200-1b885d0d324a"
      },
      "execution_count": 15,
      "outputs": [
        {
          "output_type": "stream",
          "name": "stdout",
          "text": [
            "50.0\n"
          ]
        }
      ]
    },
    {
      "cell_type": "markdown",
      "source": [
        "16. Create a class Animal with an abstract method sound(). Create two derived classes Cow and Sheep that implement the sound() method."
      ],
      "metadata": {
        "id": "nl8H9yUmVQfI"
      }
    },
    {
      "cell_type": "code",
      "source": [
        "from abc import ABC, abstractmethod\n",
        "\n",
        "class Animal(ABC):\n",
        "    @abstractmethod\n",
        "    def sound(self): pass\n",
        "\n",
        "class Cow(Animal):\n",
        "    def sound(self): print(\"Moo\")\n",
        "\n",
        "class Sheep(Animal):\n",
        "    def sound(self): print(\"Baa\")\n",
        "\n",
        "for a in (Cow(), Sheep()):\n",
        "    a.sound()\n"
      ],
      "metadata": {
        "colab": {
          "base_uri": "https://localhost:8080/"
        },
        "id": "ZcnxjBgyWCxQ",
        "outputId": "f3960cf9-26d6-4190-ecc8-e640e42833f2"
      },
      "execution_count": 16,
      "outputs": [
        {
          "output_type": "stream",
          "name": "stdout",
          "text": [
            "Moo\n",
            "Baa\n"
          ]
        }
      ]
    },
    {
      "cell_type": "markdown",
      "source": [
        "17. Create a class Book with attributes title, author, and year_published. Add a method get_book_info() that returns a formatted string with the book's details.\n",
        "\n"
      ],
      "metadata": {
        "id": "X4hPT9I9VQPm"
      }
    },
    {
      "cell_type": "code",
      "source": [
        "class Book:\n",
        "    def __init__(self, title, author, year_published):\n",
        "        self.title, self.author, self.year = title, author, year_published\n",
        "\n",
        "    def get_book_info(self):\n",
        "        return f\"'{self.title}' by {self.author} ({self.year})\"\n",
        "\n",
        "print(Book(\"Clean Code\", \"Robert C. Martin\", 2008).get_book_info())\n"
      ],
      "metadata": {
        "colab": {
          "base_uri": "https://localhost:8080/"
        },
        "id": "ZTkpGpLNWDR1",
        "outputId": "9fc1c2a4-86f2-4baa-a611-6d450897dd8d"
      },
      "execution_count": 17,
      "outputs": [
        {
          "output_type": "stream",
          "name": "stdout",
          "text": [
            "'Clean Code' by Robert C. Martin (2008)\n"
          ]
        }
      ]
    },
    {
      "cell_type": "markdown",
      "source": [
        "18. Create a class House with attributes address and price. Create a derived class Mansion that adds an\n",
        "attribute number_of_rooms."
      ],
      "metadata": {
        "id": "Cr442969VQL2"
      }
    },
    {
      "cell_type": "code",
      "source": [
        "class House:\n",
        "    def __init__(self, address, price):\n",
        "        self.address, self.price = address, price\n",
        "\n",
        "class Mansion(House):\n",
        "    def __init__(self, address, price, number_of_rooms):\n",
        "        super().__init__(address, price)\n",
        "        self.number_of_rooms = number_of_rooms\n",
        "\n",
        "m = Mansion(\"123 Palm Ave\", 2_50_00_000, 12)\n",
        "print(m.address, m.price, m.number_of_rooms)\n"
      ],
      "metadata": {
        "colab": {
          "base_uri": "https://localhost:8080/"
        },
        "id": "y6fWDfGRWEGH",
        "outputId": "ef1fc544-97aa-4450-cdd1-ca0f77dd61a9"
      },
      "execution_count": 18,
      "outputs": [
        {
          "output_type": "stream",
          "name": "stdout",
          "text": [
            "123 Palm Ave 25000000 12\n"
          ]
        }
      ]
    }
  ]
}