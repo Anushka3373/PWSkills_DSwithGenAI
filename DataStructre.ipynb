{
  "nbformat": 4,
  "nbformat_minor": 0,
  "metadata": {
    "colab": {
      "provenance": []
    },
    "kernelspec": {
      "name": "python3",
      "display_name": "Python 3"
    },
    "language_info": {
      "name": "python"
    }
  },
  "cells": [
    {
      "cell_type": "markdown",
      "source": [
        "#Data Sructure"
      ],
      "metadata": {
        "id": "fiLrGxkbT_I5"
      }
    },
    {
      "cell_type": "markdown",
      "source": [
        "1. What are data structures, and why are they important?\n",
        "   - Data structures are specialized formats for organizing, storing and accessing collection of data.\n",
        "   - They provide efficient ways to manage information based on its characteristics and intended use."
      ],
      "metadata": {
        "id": "RyWKDd9iUH4B"
      }
    },
    {
      "cell_type": "markdown",
      "source": [
        "2. Explain the difference between mutable and immutable data types with examples.\n",
        "   - Mutable - mutable datatypes means changable datatypes, they can modify, remove the elements from the datatype. Ex; List, Sets.\n",
        "   - Immutable - Immutable Datatypes are unchangable, they can't change the element stored in them. Ex; Tuple, String."
      ],
      "metadata": {
        "id": "b3ZzkzrOVDPT"
      }
    },
    {
      "cell_type": "code",
      "source": [
        "#Mutable(List)\n",
        "my_list = [1, 2, 3]\n",
        "type(my_list)\n",
        "my_list[2] = 7\n",
        "print(\"Updated List:\",my_list)"
      ],
      "metadata": {
        "colab": {
          "base_uri": "https://localhost:8080/"
        },
        "id": "uRnh3Tz3Wpz7",
        "outputId": "d1c01722-2afb-40e8-b85a-62534f1c5c8d"
      },
      "execution_count": null,
      "outputs": [
        {
          "output_type": "stream",
          "name": "stdout",
          "text": [
            "Updated List: [1, 2, 7]\n"
          ]
        }
      ]
    },
    {
      "cell_type": "code",
      "source": [
        "#Immutable(Tuple)\n",
        "my_tuple = (10, 20, 30, 40)\n",
        "type(my_tuple)\n",
        "my_tuple[3] = 2\n",
        "print(\"Updated tuple:\",my_tuple)"
      ],
      "metadata": {
        "colab": {
          "base_uri": "https://localhost:8080/",
          "height": 193
        },
        "id": "OIRUmUThU8pW",
        "outputId": "5ace7c6d-90c7-48c3-d017-82b3b41ea511"
      },
      "execution_count": null,
      "outputs": [
        {
          "output_type": "error",
          "ename": "TypeError",
          "evalue": "'tuple' object does not support item assignment",
          "traceback": [
            "\u001b[0;31m---------------------------------------------------------------------------\u001b[0m",
            "\u001b[0;31mTypeError\u001b[0m                                 Traceback (most recent call last)",
            "\u001b[0;32m<ipython-input-4-1746211519>\u001b[0m in \u001b[0;36m<cell line: 0>\u001b[0;34m()\u001b[0m\n\u001b[1;32m      2\u001b[0m \u001b[0mmy_tuple\u001b[0m \u001b[0;34m=\u001b[0m \u001b[0;34m(\u001b[0m\u001b[0;36m10\u001b[0m\u001b[0;34m,\u001b[0m \u001b[0;36m20\u001b[0m\u001b[0;34m,\u001b[0m \u001b[0;36m30\u001b[0m\u001b[0;34m,\u001b[0m \u001b[0;36m40\u001b[0m\u001b[0;34m)\u001b[0m\u001b[0;34m\u001b[0m\u001b[0;34m\u001b[0m\u001b[0m\n\u001b[1;32m      3\u001b[0m \u001b[0mtype\u001b[0m\u001b[0;34m(\u001b[0m\u001b[0mmy_tuple\u001b[0m\u001b[0;34m)\u001b[0m\u001b[0;34m\u001b[0m\u001b[0;34m\u001b[0m\u001b[0m\n\u001b[0;32m----> 4\u001b[0;31m \u001b[0mmy_tuple\u001b[0m\u001b[0;34m[\u001b[0m\u001b[0;36m3\u001b[0m\u001b[0;34m]\u001b[0m \u001b[0;34m=\u001b[0m \u001b[0;36m2\u001b[0m\u001b[0;34m\u001b[0m\u001b[0;34m\u001b[0m\u001b[0m\n\u001b[0m\u001b[1;32m      5\u001b[0m \u001b[0mprint\u001b[0m\u001b[0;34m(\u001b[0m\u001b[0;34m\"Updated tuple:\"\u001b[0m\u001b[0;34m,\u001b[0m\u001b[0mmy_tuple\u001b[0m\u001b[0;34m)\u001b[0m\u001b[0;34m\u001b[0m\u001b[0;34m\u001b[0m\u001b[0m\n",
            "\u001b[0;31mTypeError\u001b[0m: 'tuple' object does not support item assignment"
          ]
        }
      ]
    },
    {
      "cell_type": "markdown",
      "source": [
        "3. What are the main differences between lists and tuples in Python?\n",
        "   - The List are orderd, mutable collection of elements, While the tuples are ordered, immutable collection of elements.\n",
        "   - Once the elements are stored in the list we can access and modify it, but once tuple created, the items in a tuple cannot be changed."
      ],
      "metadata": {
        "id": "4PARGDWFXlR6"
      }
    },
    {
      "cell_type": "markdown",
      "source": [
        "4. Describe how dictionaries store data?\n",
        "   - The Dictonaries stores the data in the Key-value pair.\n",
        "   - They stores elements in the unordered way.\n",
        "   - Those key value pair can be of a various datatypes."
      ],
      "metadata": {
        "id": "zvThKpSOYlxS"
      }
    },
    {
      "cell_type": "markdown",
      "source": [
        "5. Why might you use a set instead of a list in Python?\n",
        "   - by using a sets we can eliminate the duplicates present.\n",
        "   - because the list only stores the data even if their duplicate is already present, but the set only stoes the unique elements and removes dulicates."
      ],
      "metadata": {
        "id": "CDcN5rqJZLHm"
      }
    },
    {
      "cell_type": "markdown",
      "source": [
        "6. What is a string in Python, and how is it different from a list?\n",
        "   - Characters arranged in an unchangeable order. Consider writing a sentence, a paragraph, or a piece of material.\n",
        "   - String are different from list because, they are immutable while the lists are mutable."
      ],
      "metadata": {
        "id": "55dcArJkbFcd"
      }
    },
    {
      "cell_type": "markdown",
      "source": [
        "7. How do tuples ensure data integrity in Python?\n",
        "   - Tuples are immutable if once created, their value cannot be changed.\n",
        "   - This prevents accidental modification of data in the program.\n",
        "   - Used for storing unchangable and fixed data."
      ],
      "metadata": {
        "id": "8bpQuF7f6Tj5"
      }
    },
    {
      "cell_type": "markdown",
      "source": [
        "8. What is a hash table, and how does it relate to dictionaries in Python?\n",
        "   - The hash table is a data structure thst stores data in key-value pair.\n",
        "   - In python, a dictionary is build using a hash tablebehind the scenes.\n",
        "   - Dictinaroes use hashing to store, search, update and delete values efficiently.\n",
        "   - Because only immutable types can be hashed, dictonaries keys must be immutable.\n",
        "   - Ex- Because when you use my_dict[\"Name\"], python hashes the key \"name\", finds its spot in memory, and gets the value quickly."
      ],
      "metadata": {
        "id": "RrlWttOj76PW"
      }
    },
    {
      "cell_type": "markdown",
      "source": [
        "9. Can lists contain different data types in Python?\n",
        "   - Yes list can contain differnt datatypes within it.\n",
        "   - List is a ordered collection of elements and can store various types of data witin it."
      ],
      "metadata": {
        "id": "UZ1AyGqTAqNT"
      }
    },
    {
      "cell_type": "markdown",
      "source": [
        "10. Explain why strings are immutable in Python?\n",
        "   - Immutable simply means unchangable.\n",
        "   - Being immutable is faster in speed and have better memory efficiency.\n",
        "   - Due to immutability data protection is high in Strings as compare to others."
      ],
      "metadata": {
        "id": "IL0H6KMsTE0L"
      }
    },
    {
      "cell_type": "markdown",
      "source": [
        "11. What advantages do dictionaries offer over lists for certain tasks?\n",
        "   - In dictionaries you, access data using keys, not positions.\n",
        "   - Dictonaries use hashing, so finding a value by key is fast and easy.\n",
        "   - In list we need to remember the index no, but there is no need to remember anything in dictonaries."
      ],
      "metadata": {
        "id": "4izKTka9U0DL"
      }
    },
    {
      "cell_type": "markdown",
      "source": [
        "12. Describe a scenario where using a tuple would be preferable over a list?\n",
        "   - Suppose returning multiple values from a function.\n",
        "   - When a fuction needs to return more than one value, tuples are ideal. Since the values are fixed once returned, immutability is perfect here.\n",
        "   - Tuples use less memory than lists, so they're better for storing lots of small, fixed data.\n"
      ],
      "metadata": {
        "id": "hILiBKT7dHX6"
      }
    },
    {
      "cell_type": "markdown",
      "source": [
        "13. How do sets handle duplicate values in Python?\n",
        "   - Sets do not allow duplicate values they automatically removes any repeated items.\n",
        "   - If we try to add the same value more than once, the set only keeps one value.\n",
        "   - Sets are used when you want to store unique elements only.\n",
        "   "
      ],
      "metadata": {
        "id": "ZATQbiTH7eex"
      }
    },
    {
      "cell_type": "markdown",
      "source": [
        "14. How does the “in” keyword work differently for lists and dictionaries?\n",
        "   - For list- in checks if a value is present in the list.\n",
        "   - For dictionaries - in checks if a key is present in the dictoinary(not the value)."
      ],
      "metadata": {
        "id": "OekNYGMT89nJ"
      }
    },
    {
      "cell_type": "code",
      "source": [
        "fruits = [\"apple\", \"banana\", \"mango\"]\n",
        "print(\"apple\" in fruits)"
      ],
      "metadata": {
        "colab": {
          "base_uri": "https://localhost:8080/"
        },
        "id": "tKjYGlYV-hfZ",
        "outputId": "33948402-c75a-4efd-a709-cf09efa1c775"
      },
      "execution_count": null,
      "outputs": [
        {
          "output_type": "stream",
          "name": "stdout",
          "text": [
            "True\n"
          ]
        }
      ]
    },
    {
      "cell_type": "code",
      "source": [
        "student = {\"name\": \"Aarav\", \"age\": 20}\n",
        "print(\"name\" in student)"
      ],
      "metadata": {
        "colab": {
          "base_uri": "https://localhost:8080/"
        },
        "id": "8oqNvV40_0Tf",
        "outputId": "e6017f4f-1e2a-4fd8-e4f8-8fbc8a354078"
      },
      "execution_count": null,
      "outputs": [
        {
          "output_type": "stream",
          "name": "stdout",
          "text": [
            "True\n"
          ]
        }
      ]
    },
    {
      "cell_type": "markdown",
      "source": [
        "15. Can you modify the elements of a tuple? Explain why or why not?\n",
        "   - No, you cant't modify the element of a tuple.\n",
        "   - Tuples are immutable, means once they are created, their elements can't be changed, added, or removed.\n",
        "      - Why\n",
        "   - Data Safety- immutabilty protects data from being changed accidently.\n",
        "   - Performance- Tuples are faster and use less memory than lists, especially used for fixed data."
      ],
      "metadata": {
        "id": "aD4Ng3MgAVQ9"
      }
    },
    {
      "cell_type": "markdown",
      "source": [
        "16. What is a nested dictionary, and give an example of its use case?\n",
        "   - A nested dictionary means a dictionary inside another dictionary.\n",
        "   - It's used when you want to group the related data together in a structured way.\n",
        "   "
      ],
      "metadata": {
        "id": "au9snlKEEioJ"
      }
    },
    {
      "cell_type": "code",
      "source": [
        "#Example\n",
        "students = {\n",
        "    \"A101\":{\n",
        "        \"name\":\"Aarav\",\n",
        "        \"age\":20,\n",
        "        \"course\":\"Btech AI\"\n",
        "    },\n",
        "    \"A102\":{\n",
        "        \"name\":\"Sara\",\n",
        "        \"age\":19,\n",
        "        \"course\":\"Btech CS\"\n",
        "    }\n",
        "}"
      ],
      "metadata": {
        "id": "zARvP5mvORzJ"
      },
      "execution_count": 1,
      "outputs": []
    },
    {
      "cell_type": "code",
      "source": [
        "print(students[\"A101\"][\"name\"])\n",
        "print(students[\"A102\"][\"course\"])"
      ],
      "metadata": {
        "colab": {
          "base_uri": "https://localhost:8080/"
        },
        "id": "mNGNw3nZPH8Y",
        "outputId": "43cacad7-ff8a-4037-eb6d-22b69da708dc"
      },
      "execution_count": 2,
      "outputs": [
        {
          "output_type": "stream",
          "name": "stdout",
          "text": [
            "Aarav\n",
            "Btech CS\n"
          ]
        }
      ]
    },
    {
      "cell_type": "markdown",
      "source": [
        "17. Describe the time complexity of accessing elements in a dictionary?\n",
        "   - Accessing elements in a dictionary using a key is very fast.\n",
        "   - Time complexity: O(1) -> Constant time.\n",
        "   - Python dictionary use hash table.\n",
        "   - When you use the key to get value, python converts key into hash and uses that directly to find the vaue in memory.\n",
        "   - No need to search through the whole dictionary like a list."
      ],
      "metadata": {
        "id": "2RubyMsO07kU"
      }
    },
    {
      "cell_type": "markdown",
      "source": [
        "18. In what situations are lists preferred over dictionaries?\n",
        "   - When you need to store ordered data like sequence of elements.\n",
        "   - When you want to loop through elements in order.\n",
        "   - When you only nee values not key_value pair.\n",
        "   - when the data is simple like a lit of numbers, names, etc"
      ],
      "metadata": {
        "id": "kUyIKFkQHsXN"
      }
    },
    {
      "cell_type": "markdown",
      "source": [
        "19. Why are dictionaries considered unordered, and how does that affect data retrieval?\n",
        "   - Dictionaries are considered unordered, because, they are built mainly for key-based access, not for keeping elements in order.\n",
        "   - Accessing elements is faster due to keys.\n",
        "   - Can't access the elements by the position."
      ],
      "metadata": {
        "id": "5DLXIO28JflM"
      }
    },
    {
      "cell_type": "markdown",
      "source": [
        "20. Explain the difference between a list and a dictionary in terms of data retrieval.\n",
        "   - List store elements in a order so while accessing the element you need to remember the index no, while dictoinaries use hash methon so you only need to mention the key and you can get the value.\n",
        "   - Dictionary lookups are usually faster(O(1)times) because they use hash table, while lists are slower(O(n) in some cases)."
      ],
      "metadata": {
        "id": "dEeYYwzNLsnu"
      }
    },
    {
      "cell_type": "markdown",
      "source": [
        "#Practical questions"
      ],
      "metadata": {
        "id": "I7J8Te_QZPdL"
      }
    },
    {
      "cell_type": "markdown",
      "source": [
        "1. Write a code to create a string with your name and print it."
      ],
      "metadata": {
        "id": "TLfWZijVbeSM"
      }
    },
    {
      "cell_type": "code",
      "source": [
        "name = \"Anushka Nitin.\"\n",
        "print(name)"
      ],
      "metadata": {
        "colab": {
          "base_uri": "https://localhost:8080/"
        },
        "id": "dQwOWRAIbSbD",
        "outputId": "e233f41d-6072-43c3-f1a0-140facd17270"
      },
      "execution_count": 1,
      "outputs": [
        {
          "output_type": "stream",
          "name": "stdout",
          "text": [
            "Anushka Nitin.\n"
          ]
        }
      ]
    },
    {
      "cell_type": "markdown",
      "source": [
        "2. Write a code to find the length of the string \"Hello World\"."
      ],
      "metadata": {
        "id": "DB4mzQ0DbuWe"
      }
    },
    {
      "cell_type": "code",
      "source": [
        "s = \"Hello World\"\n",
        "len(s)"
      ],
      "metadata": {
        "colab": {
          "base_uri": "https://localhost:8080/"
        },
        "id": "RsXO8-7Db13V",
        "outputId": "6d4b7149-906c-4532-e154-77d77408e1dc"
      },
      "execution_count": 2,
      "outputs": [
        {
          "output_type": "execute_result",
          "data": {
            "text/plain": [
              "11"
            ]
          },
          "metadata": {},
          "execution_count": 2
        }
      ]
    },
    {
      "cell_type": "markdown",
      "source": [
        "3. Write a code to slice the first 3 characters from the string \"Python Programming\"."
      ],
      "metadata": {
        "id": "2RWap0L2cH1V"
      }
    },
    {
      "cell_type": "code",
      "source": [
        "s = \"Python Programming\"\n",
        "print(s[2:6])"
      ],
      "metadata": {
        "id": "X5qjpAKJAM2g",
        "colab": {
          "base_uri": "https://localhost:8080/"
        },
        "outputId": "8f28fb09-1f6b-4af3-c0cd-6bda853402fb"
      },
      "execution_count": 3,
      "outputs": [
        {
          "output_type": "stream",
          "name": "stdout",
          "text": [
            "thon\n"
          ]
        }
      ]
    },
    {
      "cell_type": "markdown",
      "source": [
        "4. Write a code to convert the string \"hello\" to uppercase."
      ],
      "metadata": {
        "id": "Fx5L90rBckrj"
      }
    },
    {
      "cell_type": "code",
      "source": [
        "s = \"hello\"\n",
        "print(s.upper())"
      ],
      "metadata": {
        "colab": {
          "base_uri": "https://localhost:8080/"
        },
        "id": "kMCm7BSgcoaW",
        "outputId": "24c8a7df-6e87-48b0-dc48-964a76d7a388"
      },
      "execution_count": 5,
      "outputs": [
        {
          "output_type": "stream",
          "name": "stdout",
          "text": [
            "HELLO\n"
          ]
        }
      ]
    },
    {
      "cell_type": "markdown",
      "source": [
        "5.  Write a code to replace the word \"apple\" with \"orange\" in the string \"I like apple\"."
      ],
      "metadata": {
        "id": "XdC6HyI1dGnw"
      }
    },
    {
      "cell_type": "code",
      "source": [
        "s = \"I like apple\"\n",
        "new = s.replace(\"apple\", \"orange\")\n",
        "print(new)"
      ],
      "metadata": {
        "colab": {
          "base_uri": "https://localhost:8080/"
        },
        "id": "C79ERARgcf_B",
        "outputId": "c95e5cf4-41ae-4a8c-c2bb-b4a6b27cc9ca"
      },
      "execution_count": 6,
      "outputs": [
        {
          "output_type": "stream",
          "name": "stdout",
          "text": [
            "I like orange\n"
          ]
        }
      ]
    },
    {
      "cell_type": "markdown",
      "source": [
        "6. Write a code to create a list with numbers 1 to 5 and print it."
      ],
      "metadata": {
        "id": "VNXKKP6MdrXo"
      }
    },
    {
      "cell_type": "code",
      "source": [
        "lst = [1, 2, 3, 4, 5]\n",
        "print(lst)"
      ],
      "metadata": {
        "colab": {
          "base_uri": "https://localhost:8080/"
        },
        "id": "e1kYmyXGdu2m",
        "outputId": "8cc2d4e9-4ca9-4c67-d358-f7f8be6cc8da"
      },
      "execution_count": 7,
      "outputs": [
        {
          "output_type": "stream",
          "name": "stdout",
          "text": [
            "[1, 2, 3, 4, 5]\n"
          ]
        }
      ]
    },
    {
      "cell_type": "markdown",
      "source": [
        "7. Write a code to append the number 10 to the list [1, 2, 3, 4]."
      ],
      "metadata": {
        "id": "6M7TgmJMd7kn"
      }
    },
    {
      "cell_type": "code",
      "source": [
        "lst =  [1, 2, 3, 4]\n",
        "lst.append(10)"
      ],
      "metadata": {
        "id": "uQOhVEU6dl7I"
      },
      "execution_count": 8,
      "outputs": []
    },
    {
      "cell_type": "code",
      "source": [
        "print(lst)"
      ],
      "metadata": {
        "colab": {
          "base_uri": "https://localhost:8080/"
        },
        "id": "OW8fzmKJeI4V",
        "outputId": "f2f5427b-5b03-4218-fccb-fdd4883817bf"
      },
      "execution_count": 9,
      "outputs": [
        {
          "output_type": "stream",
          "name": "stdout",
          "text": [
            "[1, 2, 3, 4, 10]\n"
          ]
        }
      ]
    },
    {
      "cell_type": "markdown",
      "source": [
        "8. Write a code to remove the number 3 from the list [1, 2, 3, 4, 5]."
      ],
      "metadata": {
        "id": "7QUSRvATeSvf"
      }
    },
    {
      "cell_type": "code",
      "source": [
        "lst = [1, 2, 3, 4, 5]\n",
        "lst.remove(3)\n"
      ],
      "metadata": {
        "id": "n9x0elrZeLjS"
      },
      "execution_count": 10,
      "outputs": []
    },
    {
      "cell_type": "code",
      "source": [
        "print(lst)"
      ],
      "metadata": {
        "colab": {
          "base_uri": "https://localhost:8080/"
        },
        "id": "oax54funeg1r",
        "outputId": "1bf0045a-d730-4087-afd1-f1019b5c786b"
      },
      "execution_count": 11,
      "outputs": [
        {
          "output_type": "stream",
          "name": "stdout",
          "text": [
            "[1, 2, 4, 5]\n"
          ]
        }
      ]
    },
    {
      "cell_type": "markdown",
      "source": [
        "9. Write a code to access the second element in the list ['a', 'b', 'c', 'd']."
      ],
      "metadata": {
        "id": "aEB3Ky-3eoiK"
      }
    },
    {
      "cell_type": "code",
      "source": [
        "lst =  ['a', 'b', 'c', 'd']\n",
        "print(lst[1])"
      ],
      "metadata": {
        "colab": {
          "base_uri": "https://localhost:8080/"
        },
        "id": "pVe1fESfekAS",
        "outputId": "96ce6b37-da92-44cb-e035-96c6f7e2faeb"
      },
      "execution_count": 12,
      "outputs": [
        {
          "output_type": "stream",
          "name": "stdout",
          "text": [
            "b\n"
          ]
        }
      ]
    },
    {
      "cell_type": "markdown",
      "source": [
        "10. Write a code to reverse the list [10, 20, 30, 40, 50]."
      ],
      "metadata": {
        "id": "pd9LdhkgfGhd"
      }
    },
    {
      "cell_type": "code",
      "source": [
        "lst = [10, 20, 30, 40, 50]\n",
        "lst.reverse()"
      ],
      "metadata": {
        "id": "QzDnQjbCe_zD"
      },
      "execution_count": 13,
      "outputs": []
    },
    {
      "cell_type": "code",
      "source": [
        "print(lst)"
      ],
      "metadata": {
        "colab": {
          "base_uri": "https://localhost:8080/"
        },
        "id": "Y3h_JZckfTgF",
        "outputId": "3fb23349-e0b1-4656-893a-b82dfaf3340c"
      },
      "execution_count": 14,
      "outputs": [
        {
          "output_type": "stream",
          "name": "stdout",
          "text": [
            "[50, 40, 30, 20, 10]\n"
          ]
        }
      ]
    },
    {
      "cell_type": "markdown",
      "source": [
        "11. Write a code to create a tuple with the elements 100, 200, 300 and print it.\n"
      ],
      "metadata": {
        "id": "d35XR6Tpf5HX"
      }
    },
    {
      "cell_type": "code",
      "source": [
        "tpl = (100, 200, 300)\n",
        "print(type(tpl))\n",
        "print(tpl)"
      ],
      "metadata": {
        "colab": {
          "base_uri": "https://localhost:8080/"
        },
        "id": "_szyjS_efbW4",
        "outputId": "ed93406e-c892-4696-b675-bfd07ea54d37"
      },
      "execution_count": 20,
      "outputs": [
        {
          "output_type": "stream",
          "name": "stdout",
          "text": [
            "<class 'tuple'>\n",
            "(100, 200, 300)\n"
          ]
        }
      ]
    },
    {
      "cell_type": "markdown",
      "source": [
        "12. Write a code to access the second-to-last element of the tuple ('red', 'green', 'blue', 'yellow')."
      ],
      "metadata": {
        "id": "ukg6V787gz-p"
      }
    },
    {
      "cell_type": "code",
      "source": [
        "tpl = ('red', 'green', 'blue', 'yellow')\n",
        "tpl[1:4]"
      ],
      "metadata": {
        "colab": {
          "base_uri": "https://localhost:8080/"
        },
        "id": "LvOswE6agPxH",
        "outputId": "f44cde73-8b35-4c47-da81-bbd9f75928fc"
      },
      "execution_count": 21,
      "outputs": [
        {
          "output_type": "execute_result",
          "data": {
            "text/plain": [
              "('green', 'blue', 'yellow')"
            ]
          },
          "metadata": {},
          "execution_count": 21
        }
      ]
    },
    {
      "cell_type": "markdown",
      "source": [
        "13. Write a code to find the minimum number in the tuple (10, 20, 5, 15)."
      ],
      "metadata": {
        "id": "xnyM0abWhKtJ"
      }
    },
    {
      "cell_type": "code",
      "source": [
        "tpl =  (10, 20, 5, 15)\n",
        "min(tpl)"
      ],
      "metadata": {
        "colab": {
          "base_uri": "https://localhost:8080/"
        },
        "id": "1NMzzvtmhDNx",
        "outputId": "cc45a11e-1c3b-4c70-b61a-1412ace220c3"
      },
      "execution_count": 23,
      "outputs": [
        {
          "output_type": "execute_result",
          "data": {
            "text/plain": [
              "5"
            ]
          },
          "metadata": {},
          "execution_count": 23
        }
      ]
    },
    {
      "cell_type": "markdown",
      "source": [
        "14. Write a code to find the index of the element \"cat\" in the tuple ('dog', 'cat', 'rabbit')."
      ],
      "metadata": {
        "id": "DLKy-lUUhqEy"
      }
    },
    {
      "cell_type": "code",
      "source": [
        "tpl =  ('dog', 'cat', 'rabbit')\n",
        "idx = tpl.index('cat')\n",
        "print(\"Index of cat:\",idx)"
      ],
      "metadata": {
        "colab": {
          "base_uri": "https://localhost:8080/"
        },
        "id": "Ch--5L5nhXxK",
        "outputId": "2f640a13-9043-4992-f98a-ed45db6965d5"
      },
      "execution_count": 26,
      "outputs": [
        {
          "output_type": "stream",
          "name": "stdout",
          "text": [
            "Index of cat: 1\n"
          ]
        }
      ]
    },
    {
      "cell_type": "markdown",
      "source": [
        "15. Write a code to create a tuple containing three different fruits and check if \"kiwi\" is in it."
      ],
      "metadata": {
        "id": "d90W97GLiWxS"
      }
    },
    {
      "cell_type": "code",
      "source": [
        "tpl = ('mango', 'kiwi', 'grapes')\n",
        "'mango' in tpl"
      ],
      "metadata": {
        "colab": {
          "base_uri": "https://localhost:8080/"
        },
        "id": "PPgKeXvniHBh",
        "outputId": "673f81cc-d7f6-4ac6-e9ed-504c345de76e"
      },
      "execution_count": 27,
      "outputs": [
        {
          "output_type": "execute_result",
          "data": {
            "text/plain": [
              "True"
            ]
          },
          "metadata": {},
          "execution_count": 27
        }
      ]
    },
    {
      "cell_type": "markdown",
      "source": [
        "16. Write a code to create a set with the elements 'a', 'b', 'c' and print it.\n",
        "\n"
      ],
      "metadata": {
        "id": "i5y0GqbQkB3i"
      }
    },
    {
      "cell_type": "code",
      "source": [
        "s = {'a', 'b', 'c'}\n",
        "print(type(s))\n",
        "print(s)"
      ],
      "metadata": {
        "colab": {
          "base_uri": "https://localhost:8080/"
        },
        "id": "iVsWoiTQj74W",
        "outputId": "b308c3fe-d110-4ea4-f8e4-ca281ae1048e"
      },
      "execution_count": 29,
      "outputs": [
        {
          "output_type": "stream",
          "name": "stdout",
          "text": [
            "<class 'set'>\n",
            "{'a', 'b', 'c'}\n"
          ]
        }
      ]
    },
    {
      "cell_type": "markdown",
      "source": [
        "17. Write a code to clear all elements from the set {1, 2, 3, 4, 5}."
      ],
      "metadata": {
        "id": "Fm2yWrXeke23"
      }
    },
    {
      "cell_type": "code",
      "source": [
        "s = {1, 2, 3, 4, 5}\n",
        "s.clear()"
      ],
      "metadata": {
        "id": "ytSOXWq1kSpC"
      },
      "execution_count": 30,
      "outputs": []
    },
    {
      "cell_type": "code",
      "source": [
        "print(s)"
      ],
      "metadata": {
        "colab": {
          "base_uri": "https://localhost:8080/"
        },
        "id": "W3aBPZKGkmS5",
        "outputId": "63af0e0c-21a3-47b8-deb2-3b88fbd12565"
      },
      "execution_count": 31,
      "outputs": [
        {
          "output_type": "stream",
          "name": "stdout",
          "text": [
            "set()\n"
          ]
        }
      ]
    },
    {
      "cell_type": "markdown",
      "source": [
        "18. Write a code to remove the element 4 from the set {1, 2, 3, 4}."
      ],
      "metadata": {
        "id": "bCn2--GMkq1Q"
      }
    },
    {
      "cell_type": "code",
      "source": [
        "s =  {1, 2, 3, 4}\n",
        "s.remove(4)"
      ],
      "metadata": {
        "id": "avpC_R78kqJP"
      },
      "execution_count": 32,
      "outputs": []
    },
    {
      "cell_type": "code",
      "source": [
        "print(s)"
      ],
      "metadata": {
        "colab": {
          "base_uri": "https://localhost:8080/"
        },
        "id": "e_WPqQ4Ik4gr",
        "outputId": "a4e0778d-9fe2-4aca-c14e-76f232a254c2"
      },
      "execution_count": 33,
      "outputs": [
        {
          "output_type": "stream",
          "name": "stdout",
          "text": [
            "{1, 2, 3}\n"
          ]
        }
      ]
    },
    {
      "cell_type": "markdown",
      "source": [
        "19. Write a code to find the union of two sets {1, 2, 3} and {3, 4, 5}."
      ],
      "metadata": {
        "id": "ogV7nms0k7Uy"
      }
    },
    {
      "cell_type": "code",
      "source": [
        "set1 = {1, 2, 3}\n",
        "set2 = {3, 4, 5}\n",
        "union_set = set1.union(set2)\n",
        "print(union_set)"
      ],
      "metadata": {
        "colab": {
          "base_uri": "https://localhost:8080/"
        },
        "id": "tHTe8Y12k6Oe",
        "outputId": "294c37a6-bf47-4021-9aff-663ef60166d4"
      },
      "execution_count": 34,
      "outputs": [
        {
          "output_type": "stream",
          "name": "stdout",
          "text": [
            "{1, 2, 3, 4, 5}\n"
          ]
        }
      ]
    },
    {
      "cell_type": "markdown",
      "source": [
        "20. Write a code to find the intersection of two sets {1, 2, 3} and {2, 3, 4}."
      ],
      "metadata": {
        "id": "DTmIgYYJmAkN"
      }
    },
    {
      "cell_type": "code",
      "source": [
        "set1 = {1, 2, 3}\n",
        "set2 = {3, 4, 5}\n",
        "intersection_set = set1.intersection(set2)\n",
        "print(intersection_set)"
      ],
      "metadata": {
        "colab": {
          "base_uri": "https://localhost:8080/"
        },
        "id": "94roBJuVl_H-",
        "outputId": "0f432511-c26a-4bd1-d2d9-e3b0c5a9cee4"
      },
      "execution_count": 35,
      "outputs": [
        {
          "output_type": "stream",
          "name": "stdout",
          "text": [
            "{3}\n"
          ]
        }
      ]
    },
    {
      "cell_type": "markdown",
      "source": [
        "21. Write a code to create a dictionary with the keys \"name\", \"age\", and \"city\", and print it."
      ],
      "metadata": {
        "id": "PYvYkUWBmw50"
      }
    },
    {
      "cell_type": "code",
      "source": [
        "dic = {\"name\":\"Aarav\", \"age\":20, \"city\":\"nashik\"}\n",
        "print(dic)"
      ],
      "metadata": {
        "colab": {
          "base_uri": "https://localhost:8080/"
        },
        "id": "nX8ZCUL7mlyo",
        "outputId": "d935daa5-e9d5-4898-cbe5-8d1ea06d0a4d"
      },
      "execution_count": 49,
      "outputs": [
        {
          "output_type": "stream",
          "name": "stdout",
          "text": [
            "{'name': 'Aarav', 'age': 20, 'city': 'nashik'}\n"
          ]
        }
      ]
    },
    {
      "cell_type": "markdown",
      "source": [
        "22. Write a code to add a new key-value pair \"country\": \"USA\" to the dictionary {'name': 'John', 'age': 25}."
      ],
      "metadata": {
        "id": "hwvePbJSnPRR"
      }
    },
    {
      "cell_type": "code",
      "source": [
        "dic = {'name': 'John', 'age': 25}\n",
        "dic['counry'] = 'USA'\n",
        "print(dic)"
      ],
      "metadata": {
        "colab": {
          "base_uri": "https://localhost:8080/"
        },
        "id": "MJU1a1BwnGpa",
        "outputId": "cad860bf-865a-4d87-9897-d3ea06b2a9b5"
      },
      "execution_count": 39,
      "outputs": [
        {
          "output_type": "stream",
          "name": "stdout",
          "text": [
            "{'name': 'John', 'age': 25, 'counry': 'USA'}\n"
          ]
        }
      ]
    },
    {
      "cell_type": "markdown",
      "source": [
        "23. Write a code to access the value associated with the key \"name\" in the dictionary {'name': 'Alice', 'age': 30}."
      ],
      "metadata": {
        "id": "ztHl4eZyoC2w"
      }
    },
    {
      "cell_type": "code",
      "source": [
        "dic =  {'name': 'Alice', 'age': 30}\n",
        "print(dic['name'])"
      ],
      "metadata": {
        "colab": {
          "base_uri": "https://localhost:8080/"
        },
        "id": "2NAZ4hpDoK9h",
        "outputId": "9cacb582-6e8a-4efd-83cb-2aeff1b0eb64"
      },
      "execution_count": 42,
      "outputs": [
        {
          "output_type": "stream",
          "name": "stdout",
          "text": [
            "Alice\n"
          ]
        }
      ]
    },
    {
      "cell_type": "markdown",
      "source": [
        "24. Write a code to remove the key \"age\" from the dictionary {'name': 'Bob', 'age': 22, 'city': 'New York'}."
      ],
      "metadata": {
        "id": "dHCcVhwGpFZB"
      }
    },
    {
      "cell_type": "code",
      "source": [
        "dic =  {'name': 'Bob', 'age': 22, 'city': 'New York'}\n",
        "dic.pop('age')\n",
        "print(dic)"
      ],
      "metadata": {
        "colab": {
          "base_uri": "https://localhost:8080/"
        },
        "id": "jCAQR7xKoeNT",
        "outputId": "74a2b9c0-58fa-4cb2-ba0d-b4c7584649c0"
      },
      "execution_count": 45,
      "outputs": [
        {
          "output_type": "stream",
          "name": "stdout",
          "text": [
            "{'name': 'Bob', 'city': 'New York'}\n"
          ]
        }
      ]
    },
    {
      "cell_type": "markdown",
      "source": [
        "25. Write a code to check if the key \"city\" exists in the dictionary {'name': 'Alice', 'city': 'Paris'}.\n",
        "\n"
      ],
      "metadata": {
        "id": "D5O10Ztspl-Q"
      }
    },
    {
      "cell_type": "code",
      "source": [
        "dic = {'name': 'Alice', 'city': 'Paris'}\n",
        "'city' in dic"
      ],
      "metadata": {
        "colab": {
          "base_uri": "https://localhost:8080/"
        },
        "id": "YcUdmdVypPv2",
        "outputId": "c7d96dba-9042-4ab1-9405-e62a89fba14d"
      },
      "execution_count": 46,
      "outputs": [
        {
          "output_type": "execute_result",
          "data": {
            "text/plain": [
              "True"
            ]
          },
          "metadata": {},
          "execution_count": 46
        }
      ]
    },
    {
      "cell_type": "markdown",
      "source": [
        "26. Write a code to create a list, a tuple, and a dictionary, and print them all."
      ],
      "metadata": {
        "id": "CfRUe0cvpy4B"
      }
    },
    {
      "cell_type": "code",
      "source": [
        "#list\n",
        "lst = [1, 2, 3, 4]\n",
        "print(lst)"
      ],
      "metadata": {
        "colab": {
          "base_uri": "https://localhost:8080/"
        },
        "id": "KLjBcS8LpulC",
        "outputId": "ac5f67f2-cb2a-4a9e-bf37-9ca8ee95d813"
      },
      "execution_count": 47,
      "outputs": [
        {
          "output_type": "stream",
          "name": "stdout",
          "text": [
            "[1, 2, 3, 4]\n"
          ]
        }
      ]
    },
    {
      "cell_type": "code",
      "source": [
        "#Tuple\n",
        "tpl = ('a', 'b', 'c')\n",
        "print(tpl)"
      ],
      "metadata": {
        "colab": {
          "base_uri": "https://localhost:8080/"
        },
        "id": "vhbF-jkQp5R-",
        "outputId": "240f6cd3-f58f-4a41-e7a1-6f934fb35799"
      },
      "execution_count": 48,
      "outputs": [
        {
          "output_type": "stream",
          "name": "stdout",
          "text": [
            "('a', 'b', 'c')\n"
          ]
        }
      ]
    },
    {
      "cell_type": "code",
      "source": [
        "dic = {\n",
        "    \"name\":\"Aarav\",\n",
        "    \"age\":20,\n",
        "    \"city\":\"nashik\"\n",
        "    }\n",
        "print(dic)"
      ],
      "metadata": {
        "colab": {
          "base_uri": "https://localhost:8080/"
        },
        "id": "Fxar1g4-qDka",
        "outputId": "5d8c72a7-bc67-4735-eccf-6e5e5d39e300"
      },
      "execution_count": 50,
      "outputs": [
        {
          "output_type": "stream",
          "name": "stdout",
          "text": [
            "{'name': 'Aarav', 'age': 20, 'city': 'nashik'}\n"
          ]
        }
      ]
    },
    {
      "cell_type": "markdown",
      "source": [
        "27. Write a code to create a list of 5 random numbers between 1 and 100, sort it in ascending order, and print the result.(replaced)"
      ],
      "metadata": {
        "id": "z8NUDHTRqWjc"
      }
    },
    {
      "cell_type": "code",
      "source": [
        "lst = [7, 1, 30, 98, 28]\n",
        "lst.sort()\n",
        "print(lst)"
      ],
      "metadata": {
        "colab": {
          "base_uri": "https://localhost:8080/"
        },
        "id": "9mz7648-qSth",
        "outputId": "2d16f679-fee1-4772-ef53-d904f74507c4"
      },
      "execution_count": 51,
      "outputs": [
        {
          "output_type": "stream",
          "name": "stdout",
          "text": [
            "[1, 7, 28, 30, 98]\n"
          ]
        }
      ]
    },
    {
      "cell_type": "markdown",
      "source": [
        "28. Write a code to create a list with strings and print the element at the third index."
      ],
      "metadata": {
        "id": "a51BkYY2ryER"
      }
    },
    {
      "cell_type": "code",
      "source": [
        "clr = [\"yellow\", \"blue\", \"green\", \"black\", \"White\", \"red\"]\n",
        "clr[3]"
      ],
      "metadata": {
        "colab": {
          "base_uri": "https://localhost:8080/",
          "height": 36
        },
        "id": "DYIGjDYDrqW0",
        "outputId": "29c64964-d9db-4e96-f188-be761615e8cc"
      },
      "execution_count": 52,
      "outputs": [
        {
          "output_type": "execute_result",
          "data": {
            "text/plain": [
              "'black'"
            ],
            "application/vnd.google.colaboratory.intrinsic+json": {
              "type": "string"
            }
          },
          "metadata": {},
          "execution_count": 52
        }
      ]
    },
    {
      "cell_type": "markdown",
      "source": [
        "29. Write a code to combine two dictionaries into one and print the result."
      ],
      "metadata": {
        "id": "KwPu6JrdsNS-"
      }
    },
    {
      "cell_type": "code",
      "source": [
        "dic1 = {\"name\":\"Bob\", \"age\":20}\n",
        "dic2 = {\"city\":\"Nashik\", \"Country\":\"India\"}\n",
        "dic1.update(dic2)\n",
        "print(dic1)"
      ],
      "metadata": {
        "colab": {
          "base_uri": "https://localhost:8080/"
        },
        "id": "RmNTXDw-sIoI",
        "outputId": "8b3145f5-d3d4-45a5-dae4-3a79dffcc709"
      },
      "execution_count": 54,
      "outputs": [
        {
          "output_type": "stream",
          "name": "stdout",
          "text": [
            "{'name': 'Bob', 'age': 20, 'city': 'Nashik', 'Country': 'India'}\n"
          ]
        }
      ]
    },
    {
      "cell_type": "markdown",
      "source": [
        "30. Write a code to convert a list of strings into a set."
      ],
      "metadata": {
        "id": "LvPGOvQStLQO"
      }
    },
    {
      "cell_type": "code",
      "source": [
        "fruits = [\"apple\", \"banana\", \"cherry\", \"apple\", \"banana\"]\n",
        "fruit_set = set(fruits)\n",
        "print(fruit_set)"
      ],
      "metadata": {
        "colab": {
          "base_uri": "https://localhost:8080/"
        },
        "id": "xicpfJrttFK6",
        "outputId": "491dd1f9-496b-4f7b-cbe1-af8cfee97c3a"
      },
      "execution_count": 55,
      "outputs": [
        {
          "output_type": "stream",
          "name": "stdout",
          "text": [
            "{'cherry', 'banana', 'apple'}\n"
          ]
        }
      ]
    }
  ]
}