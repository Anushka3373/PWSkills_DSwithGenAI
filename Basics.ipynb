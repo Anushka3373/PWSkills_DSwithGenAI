{
  "nbformat": 4,
  "nbformat_minor": 0,
  "metadata": {
    "colab": {
      "provenance": []
    },
    "kernelspec": {
      "name": "python3",
      "display_name": "Python 3"
    },
    "language_info": {
      "name": "python"
    }
  },
  "cells": [
    {
      "cell_type": "markdown",
      "source": [
        "#Python Basics"
      ],
      "metadata": {
        "id": "KommoshD-Ucz"
      }
    },
    {
      "cell_type": "markdown",
      "source": [
        " 1. What is python and why is it popular?\n",
        "    - Python is a high level interpreted language.\n",
        "    - It is popular becase its simple and readable, has large standard library, and is versatile to use."
      ],
      "metadata": {
        "id": "OOSwz6vZAAa0"
      }
    },
    {
      "cell_type": "markdown",
      "source": [
        "2. What is an interpreter in Python?\n",
        "   - program that reads and executes the python code line by line is known as interpreter."
      ],
      "metadata": {
        "id": "aviYulSUwb2M"
      }
    },
    {
      "cell_type": "markdown",
      "source": [
        "3. What are pre-defined keywords in Python?\n",
        "   - Predefined keywords are the special words that are already defined in the python.\n",
        "   - This keywords in python already have a set of meaning in python.\n",
        "   - Eg. def, if, else, return, etc.\n",
        "   - We can't use them to define a variable"
      ],
      "metadata": {
        "id": "NdQ1htg1xO_N"
      }
    },
    {
      "cell_type": "markdown",
      "source": [
        "4. Can keywords be used as variable names?\n",
        "   - No, we can't use keywords as a variable name.\n",
        "   - because they are reserved wordds with special meaning.  "
      ],
      "metadata": {
        "id": "IzbtaL2VzLNs"
      }
    },
    {
      "cell_type": "markdown",
      "source": [
        "5. What is mutability in Python?\n",
        "   - Mutabiity means whether a value can be changed after its creation.\n",
        "   - Mutable simply means changable.\n",
        "   - Mutable data types are string, sets and lists."
      ],
      "metadata": {
        "id": "lddRunOG0GOb"
      }
    },
    {
      "cell_type": "markdown",
      "source": [
        "6. Why are lists mutable, but tuples are immutable?\n",
        "   - Lists are mutable because we can add, remove or change items after creating them.\n",
        "   - lists are useful when we need to work with changing data.\n",
        "   - Tuples are immutable because once they are created we can't change them.\n",
        "   - Tuples are used for the fixed data."
      ],
      "metadata": {
        "id": "AAFtxJ1U2non"
      }
    },
    {
      "cell_type": "markdown",
      "source": [
        "7. What is the difference between “==” and “is” operators in Python?\n",
        "   - == operator checks if the two values are equal are not.\n",
        "   - while is operator checks if the two variables points at the same object in the memory or not."
      ],
      "metadata": {
        "id": "07-ea7Bk4Ilw"
      }
    },
    {
      "cell_type": "markdown",
      "source": [
        "8. What are logical operators in Python?\n",
        "   - Logical operators are used to combine multiple conditions.\n",
        "   - They return true or false based on the values."
      ],
      "metadata": {
        "id": "FcocfbMw5Sl3"
      }
    },
    {
      "cell_type": "markdown",
      "source": [
        "9. What is type casting in Python?\n",
        "   - Type casting is process of changing one datatype to another datatype in python."
      ],
      "metadata": {
        "id": "tDGvVo546ZMG"
      }
    },
    {
      "cell_type": "markdown",
      "source": [
        "10. What is the difference between implicit and explicit type casting?\n",
        "   - Implicit type casting -\n",
        "     Done automatically by python using dayatypes like int, float.\n",
        "   - Explicit type casting -\n",
        "     Done by the program using datatypes like str, int etc.\n",
        "\n",
        "\n",
        "\n"
      ],
      "metadata": {
        "id": "MjRkWoQK7DSk"
      }
    },
    {
      "cell_type": "markdown",
      "source": [
        "11. What is the purpose of conditional statements in Python?\n",
        "   - Conditional statements are used to make the decisions in program.\n",
        "   - They are used to execute code based on the evaluation of one or more conditions.\n",
        "   - Includes conditionals such as if, else, while, etc."
      ],
      "metadata": {
        "id": "uR5sZCxQ8l3x"
      }
    },
    {
      "cell_type": "markdown",
      "source": [
        "12. How does the elif statement work?\n",
        "   - Stands for else if.\n",
        "   - Use to check multiple conditions after if statement.\n",
        "   - If the if condition is false, python checks the elif condition."
      ],
      "metadata": {
        "id": "GpKLnxRpBGIm"
      }
    },
    {
      "cell_type": "markdown",
      "source": [
        "13. What is the difference between for and while loops?\n",
        "   - For loop- for loop is used when we know how many times we want to repeat.\n",
        "   - commonly used to loop through a sequence.\n",
        "   - While loop- While loop is used when we don't know how many times to repeat.\n",
        "   - Runs as long as the condition is true."
      ],
      "metadata": {
        "id": "POyCH5SsCZtA"
      }
    },
    {
      "cell_type": "markdown",
      "source": [
        "14.  Describe a scenario where a while loop is more suitable than a for loop.\n",
        "   - A while loop is better when we don't know how many times thr loop should run.\n",
        "   - EX Scenarion: Taking input until they type exit.\n",
        "   "
      ],
      "metadata": {
        "id": "P0VyP0YoEDY9"
      }
    },
    {
      "cell_type": "code",
      "source": [
        "user_input = \" \"\n",
        "while user_input != \"exit\":\n",
        "  user_input = input(\"Enter input (or exit to quit):\")"
      ],
      "metadata": {
        "colab": {
          "base_uri": "https://localhost:8080/"
        },
        "id": "RBXdA_hvFlZN",
        "outputId": "678a7ab2-7815-446a-ce7f-732b0e9dfc7b"
      },
      "execution_count": null,
      "outputs": [
        {
          "name": "stdout",
          "output_type": "stream",
          "text": [
            "Enter input (or exit to quit):exit\n"
          ]
        }
      ]
    },
    {
      "cell_type": "markdown",
      "source": [
        "#Practical Questions"
      ],
      "metadata": {
        "id": "AiLhwZFbGex4"
      }
    },
    {
      "cell_type": "markdown",
      "source": [
        "1.  Write a Python program to print \"Hello, World!\"."
      ],
      "metadata": {
        "id": "riPrt1cyG0hu"
      }
    },
    {
      "cell_type": "code",
      "source": [
        "print(\"Hello, World!\")"
      ],
      "metadata": {
        "colab": {
          "base_uri": "https://localhost:8080/"
        },
        "id": "vZM8qHlgG5MB",
        "outputId": "24497ab0-a141-4a49-9d9d-d63ad123933e"
      },
      "execution_count": 2,
      "outputs": [
        {
          "output_type": "stream",
          "name": "stdout",
          "text": [
            "Hello, World!\n"
          ]
        }
      ]
    },
    {
      "cell_type": "markdown",
      "source": [
        "2.  Write a Python program that displays your name and age."
      ],
      "metadata": {
        "id": "2IGsqaCJHIcx"
      }
    },
    {
      "cell_type": "code",
      "source": [
        "print(\"Hii, I'am Anushka Nitin\")\n",
        "print(\"I'am 20yrs old.\")"
      ],
      "metadata": {
        "colab": {
          "base_uri": "https://localhost:8080/"
        },
        "id": "IMVcfb1IHRh2",
        "outputId": "bd04cd4d-2cd2-4fa6-9ea3-c552da973ab4"
      },
      "execution_count": 3,
      "outputs": [
        {
          "output_type": "stream",
          "name": "stdout",
          "text": [
            "Hii, I'am Anushka Nitin\n",
            "I'am 20yrs old.\n"
          ]
        }
      ]
    },
    {
      "cell_type": "markdown",
      "source": [
        "3.  Write code to print all the pre-defined keywords in Python using the keyword library."
      ],
      "metadata": {
        "id": "ahg7JuWCHqal"
      }
    },
    {
      "cell_type": "code",
      "execution_count": 4,
      "metadata": {
        "id": "B2Y_dEnA-FEu",
        "colab": {
          "base_uri": "https://localhost:8080/"
        },
        "outputId": "51ddbaa6-239a-4cf1-f56a-24f8c0bf010a"
      },
      "outputs": [
        {
          "output_type": "stream",
          "name": "stdout",
          "text": [
            "['False', 'None', 'True', 'and', 'as', 'assert', 'async', 'await', 'break', 'class', 'continue', 'def', 'del', 'elif', 'else', 'except', 'finally', 'for', 'from', 'global', 'if', 'import', 'in', 'is', 'lambda', 'nonlocal', 'not', 'or', 'pass', 'raise', 'return', 'try', 'while', 'with', 'yield']\n"
          ]
        }
      ],
      "source": [
        "import keyword\n",
        "print(keyword.kwlist)"
      ]
    },
    {
      "cell_type": "code",
      "source": [
        "help('keywords')"
      ],
      "metadata": {
        "colab": {
          "base_uri": "https://localhost:8080/"
        },
        "id": "Q41Q_Ad8LQlH",
        "outputId": "26897f31-ddb5-458e-87fe-67b7aa664309"
      },
      "execution_count": 5,
      "outputs": [
        {
          "output_type": "stream",
          "name": "stdout",
          "text": [
            "\n",
            "Here is a list of the Python keywords.  Enter any keyword to get more help.\n",
            "\n",
            "False               class               from                or\n",
            "None                continue            global              pass\n",
            "True                def                 if                  raise\n",
            "and                 del                 import              return\n",
            "as                  elif                in                  try\n",
            "assert              else                is                  while\n",
            "async               except              lambda              with\n",
            "await               finally             nonlocal            yield\n",
            "break               for                 not                 \n",
            "\n"
          ]
        }
      ]
    },
    {
      "cell_type": "markdown",
      "source": [
        "4. Write a program that checks if a given word is a Python keyword.\n"
      ],
      "metadata": {
        "id": "OKwuFfAZHzNX"
      }
    },
    {
      "cell_type": "code",
      "source": [
        "import keyword\n",
        "word = input(\"Enter word:\")\n",
        "if keyword.iskeyword(word):\n",
        "  print(\"it is a keyword.\")"
      ],
      "metadata": {
        "colab": {
          "base_uri": "https://localhost:8080/"
        },
        "id": "m2lPWbPLH5RU",
        "outputId": "5de320f9-9213-4d9b-d993-3c2b3a807a23"
      },
      "execution_count": 6,
      "outputs": [
        {
          "output_type": "stream",
          "name": "stdout",
          "text": [
            "Enter word:for\n",
            "it is a keyword.\n"
          ]
        }
      ]
    },
    {
      "cell_type": "markdown",
      "source": [
        "5. Create a list and tuple in Python, and demonstrate how attempting to change an element works differently for each."
      ],
      "metadata": {
        "id": "YlsLLT-lH5uk"
      }
    },
    {
      "cell_type": "code",
      "source": [
        "#list\n",
        "my_list = [10, 20, 30]\n",
        "my_list[1] = 90\n",
        "print(\"Updated list:\",my_list)"
      ],
      "metadata": {
        "colab": {
          "base_uri": "https://localhost:8080/"
        },
        "id": "EC8FhmDuICX6",
        "outputId": "e15de2f5-cbe3-4129-b548-bf41693e5432"
      },
      "execution_count": 7,
      "outputs": [
        {
          "output_type": "stream",
          "name": "stdout",
          "text": [
            "Updated list: [10, 90, 30]\n"
          ]
        }
      ]
    },
    {
      "cell_type": "code",
      "source": [
        "#Tuple\n",
        "my_tuple = (1, 2, 3)\n",
        "my_tuple[2] = 4\n",
        "print(\"updated tuple:\",my_tuple)"
      ],
      "metadata": {
        "colab": {
          "base_uri": "https://localhost:8080/",
          "height": 193
        },
        "id": "3jIq1RX2ePDi",
        "outputId": "7da4945d-b0c3-4b11-96f2-7ca5954ce382"
      },
      "execution_count": 8,
      "outputs": [
        {
          "output_type": "error",
          "ename": "TypeError",
          "evalue": "'tuple' object does not support item assignment",
          "traceback": [
            "\u001b[0;31m---------------------------------------------------------------------------\u001b[0m",
            "\u001b[0;31mTypeError\u001b[0m                                 Traceback (most recent call last)",
            "\u001b[0;32m<ipython-input-8-826138339>\u001b[0m in \u001b[0;36m<cell line: 0>\u001b[0;34m()\u001b[0m\n\u001b[1;32m      1\u001b[0m \u001b[0;31m#Tuple\u001b[0m\u001b[0;34m\u001b[0m\u001b[0;34m\u001b[0m\u001b[0m\n\u001b[1;32m      2\u001b[0m \u001b[0mmy_tuple\u001b[0m \u001b[0;34m=\u001b[0m \u001b[0;34m(\u001b[0m\u001b[0;36m1\u001b[0m\u001b[0;34m,\u001b[0m \u001b[0;36m2\u001b[0m\u001b[0;34m,\u001b[0m \u001b[0;36m3\u001b[0m\u001b[0;34m)\u001b[0m\u001b[0;34m\u001b[0m\u001b[0;34m\u001b[0m\u001b[0m\n\u001b[0;32m----> 3\u001b[0;31m \u001b[0mmy_tuple\u001b[0m\u001b[0;34m[\u001b[0m\u001b[0;36m2\u001b[0m\u001b[0;34m]\u001b[0m \u001b[0;34m=\u001b[0m \u001b[0;36m4\u001b[0m\u001b[0;34m\u001b[0m\u001b[0;34m\u001b[0m\u001b[0m\n\u001b[0m\u001b[1;32m      4\u001b[0m \u001b[0mprint\u001b[0m\u001b[0;34m(\u001b[0m\u001b[0;34m\"updated tuple:\"\u001b[0m\u001b[0;34m,\u001b[0m\u001b[0mmy_tuple\u001b[0m\u001b[0;34m)\u001b[0m\u001b[0;34m\u001b[0m\u001b[0;34m\u001b[0m\u001b[0m\n",
            "\u001b[0;31mTypeError\u001b[0m: 'tuple' object does not support item assignment"
          ]
        }
      ]
    },
    {
      "cell_type": "markdown",
      "source": [
        "6. Write a function to demonstrate the behavior of mutable and immutable arguments.\n",
        "\n"
      ],
      "metadata": {
        "id": "IJfJhweEIDE9"
      }
    },
    {
      "cell_type": "code",
      "source": [
        "def modify_args(num, num_list):\n",
        "    num += 10              # Immutable\n",
        "    num_list.append(100)   # Mutable\n",
        "    print(\"Inside function:\")\n",
        "    print(\"num =\", num)\n",
        "    print(\"num_list =\", num_list)\n",
        "\n",
        "# Original values\n",
        "a = 5\n",
        "b = [10, 20]\n",
        "\n",
        "# Call the function\n",
        "modify_args(a, b)\n",
        "\n",
        "# Check values after function call\n",
        "print(\"\\nOutside function:\")\n",
        "print(\"a =\", a)\n",
        "print(\"b =\", b)"
      ],
      "metadata": {
        "colab": {
          "base_uri": "https://localhost:8080/"
        },
        "id": "tTQfSeujIIKj",
        "outputId": "e2792e2e-68be-499a-b048-2e8d181f741c"
      },
      "execution_count": 9,
      "outputs": [
        {
          "output_type": "stream",
          "name": "stdout",
          "text": [
            "Inside function:\n",
            "num = 15\n",
            "num_list = [10, 20, 100]\n",
            "\n",
            "Outside function:\n",
            "a = 5\n",
            "b = [10, 20, 100]\n"
          ]
        }
      ]
    },
    {
      "cell_type": "markdown",
      "source": [
        "7. Write a program that performs basic arithmetic operations on two user-input numbers."
      ],
      "metadata": {
        "id": "JuMdnjkdIIta"
      }
    },
    {
      "cell_type": "code",
      "source": [
        "#add of 2 integers\n",
        "num1 = int(input(\"Enter no 1:\"))\n",
        "num2 = int(input(\"Enter no 2:\"))\n",
        "result = num1+num2\n",
        "print(\"The addition is:\",result)"
      ],
      "metadata": {
        "colab": {
          "base_uri": "https://localhost:8080/"
        },
        "id": "mk9swYijIPIF",
        "outputId": "363e359a-7226-4374-8036-88f7824f0a22"
      },
      "execution_count": 10,
      "outputs": [
        {
          "output_type": "stream",
          "name": "stdout",
          "text": [
            "Enter no 1:3\n",
            "Enter no 2:5\n",
            "The addition is: 8\n"
          ]
        }
      ]
    },
    {
      "cell_type": "markdown",
      "source": [
        "8. Write a program to demonstrate the use of logical operators."
      ],
      "metadata": {
        "id": "jDwTgFSCIeL-"
      }
    },
    {
      "cell_type": "code",
      "source": [
        "x = 5\n",
        "y = 10\n",
        "z = 15\n",
        "\n",
        "if x < y and z > y:\n",
        "    print(\"AND: Both conditions are True\")\n",
        "\n",
        "if x > y or z > y:\n",
        "    print(\"OR: At least one condition is True\")\n",
        "\n",
        "if not(x > y):\n",
        "    print(\"NOT: x is NOT greater than y\")"
      ],
      "metadata": {
        "colab": {
          "base_uri": "https://localhost:8080/"
        },
        "id": "mX6w5WW1IjCN",
        "outputId": "c0527aef-eeb8-43bd-c3e1-9031d5946855"
      },
      "execution_count": 11,
      "outputs": [
        {
          "output_type": "stream",
          "name": "stdout",
          "text": [
            "AND: Both conditions are True\n",
            "OR: At least one condition is True\n",
            "NOT: x is NOT greater than y\n"
          ]
        }
      ]
    },
    {
      "cell_type": "markdown",
      "source": [
        "9. Write a Python program to convert user input from string to integer, float, and boolean types."
      ],
      "metadata": {
        "id": "9HX-e_k7IjoZ"
      }
    },
    {
      "cell_type": "code",
      "source": [
        "#string to integer\n",
        "a = \"1\"\n",
        "value = int(a)\n",
        "print(\"Integer: \",a)\n",
        "value = float(a)\n",
        "print(\"Float: \",a)\n",
        "value = bool(a)\n",
        "print(\"Boolean: \",a)"
      ],
      "metadata": {
        "id": "gQYjcqzeIpbO",
        "colab": {
          "base_uri": "https://localhost:8080/"
        },
        "outputId": "587f0436-a5b6-40b6-ba9e-2257c70934e8"
      },
      "execution_count": 12,
      "outputs": [
        {
          "output_type": "stream",
          "name": "stdout",
          "text": [
            "Integer:  1\n",
            "Float:  1\n",
            "Boolean:  1\n"
          ]
        }
      ]
    },
    {
      "cell_type": "markdown",
      "source": [
        "10. Write code to demonstrate type casting with list elements."
      ],
      "metadata": {
        "id": "b3NeBtINIqOC"
      }
    },
    {
      "cell_type": "code",
      "source": [
        "num = ['10', '20', '30']\n",
        "convert = [int(n) for n in num]\n",
        "print(convert)"
      ],
      "metadata": {
        "id": "_VggOIE7IvXg",
        "colab": {
          "base_uri": "https://localhost:8080/"
        },
        "outputId": "0138f91a-0433-4ca4-826c-3d992e5e4ec3"
      },
      "execution_count": 17,
      "outputs": [
        {
          "output_type": "stream",
          "name": "stdout",
          "text": [
            "[10, 20, 30]\n"
          ]
        }
      ]
    },
    {
      "cell_type": "markdown",
      "source": [
        "11. Write a program that checks if a number is positive, negative, or zero."
      ],
      "metadata": {
        "id": "bc52eWBzIv5C"
      }
    },
    {
      "cell_type": "code",
      "source": [
        "num = float(input(\"Enter the Number:\"))\n",
        "if num > 0:\n",
        "  print(\"The no is positive\")\n",
        "elif num < 0:\n",
        "  print(\"The no is negative\")\n",
        "else:\n",
        "  print(\"The no is Zero\")"
      ],
      "metadata": {
        "id": "9pg55o-cI0dx",
        "colab": {
          "base_uri": "https://localhost:8080/"
        },
        "outputId": "066f2270-03c1-4912-be5d-c76e87eff678"
      },
      "execution_count": 18,
      "outputs": [
        {
          "output_type": "stream",
          "name": "stdout",
          "text": [
            "Enter the Number:24\n",
            "The no is positive\n"
          ]
        }
      ]
    },
    {
      "cell_type": "markdown",
      "source": [
        "12. Write a for loop to print numbers from 1 to 10."
      ],
      "metadata": {
        "id": "j0STy7XdI06w"
      }
    },
    {
      "cell_type": "code",
      "source": [
        "for i in range(1, 11):\n",
        "  print(i)"
      ],
      "metadata": {
        "id": "WpGbX4kYI5rH",
        "colab": {
          "base_uri": "https://localhost:8080/"
        },
        "outputId": "c56f44ea-fafb-40e7-848b-ba5c7846025e"
      },
      "execution_count": 22,
      "outputs": [
        {
          "output_type": "stream",
          "name": "stdout",
          "text": [
            "1\n",
            "2\n",
            "3\n",
            "4\n",
            "5\n",
            "6\n",
            "7\n",
            "8\n",
            "9\n",
            "10\n"
          ]
        }
      ]
    },
    {
      "cell_type": "markdown",
      "source": [
        "13. Write a Python program to find the sum of all even numbers between 1 and 50.\n",
        "\n"
      ],
      "metadata": {
        "id": "N_3Xu34tI6Kd"
      }
    },
    {
      "cell_type": "code",
      "source": [
        "result=0\n",
        "for n in range(1, 51):\n",
        "  if n % 2 == 0:\n",
        "    result += n\n",
        "print(\"The sum of even no from 1 to 50 is:\",result)"
      ],
      "metadata": {
        "id": "apuJ5Pv7JBV2",
        "colab": {
          "base_uri": "https://localhost:8080/"
        },
        "outputId": "2127f2d8-f931-4a48-82e9-dff70393dc63"
      },
      "execution_count": 25,
      "outputs": [
        {
          "output_type": "stream",
          "name": "stdout",
          "text": [
            "The sum of even no from 1 to 50 is: 650\n"
          ]
        }
      ]
    },
    {
      "cell_type": "markdown",
      "source": [
        "14. Write a program to reverse a string using a while loop."
      ],
      "metadata": {
        "id": "Vi1X6Hv0JIOI"
      }
    },
    {
      "cell_type": "code",
      "source": [
        "word = \"hello\"\n",
        "i = len(word) - 1\n",
        "reverse = \"\"\n",
        "while i >= 0:\n",
        "    reverse = reverse + word[i]\n",
        "    i = i - 1\n",
        "print(\"Reversed string:\", reverse)"
      ],
      "metadata": {
        "id": "A352l584JLYq",
        "colab": {
          "base_uri": "https://localhost:8080/"
        },
        "outputId": "c604ab7b-8fa5-40d7-8f79-5bcd81425143"
      },
      "execution_count": 26,
      "outputs": [
        {
          "output_type": "stream",
          "name": "stdout",
          "text": [
            "Reversed string: olleh\n"
          ]
        }
      ]
    },
    {
      "cell_type": "markdown",
      "source": [
        "15. Write a Python program to calculate the factorial of a number provided by the user using a while loop."
      ],
      "metadata": {
        "id": "42ViFEVUJPS1"
      }
    },
    {
      "cell_type": "code",
      "source": [
        "n = int(input(\"Enter a number:\"))\n",
        "fact = 1\n",
        "i = 1\n",
        "while i <= n:\n",
        "  fact = fact * i\n",
        "print(\"Factorial of no is:\",fact)"
      ],
      "metadata": {
        "colab": {
          "base_uri": "https://localhost:8080/"
        },
        "id": "AmiVRGS_9VKA",
        "outputId": "e554ec42-2cd5-44a1-dac7-898ab37741a1"
      },
      "execution_count": null,
      "outputs": [
        {
          "name": "stdout",
          "output_type": "stream",
          "text": [
            "Enter a number:2\n"
          ]
        }
      ]
    }
  ]
}